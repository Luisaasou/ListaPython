{
  "cells": [
    {
      "cell_type": "markdown",
      "metadata": {
        "id": "view-in-github",
        "colab_type": "text"
      },
      "source": [
        "<a href=\"https://colab.research.google.com/github/Luisaasou/ListaPython/blob/main/ListaPython.ipynb\" target=\"_parent\"><img src=\"https://colab.research.google.com/assets/colab-badge.svg\" alt=\"Open In Colab\"/></a>"
      ]
    },
    {
      "cell_type": "code",
      "execution_count": null,
      "metadata": {
        "colab": {
          "base_uri": "https://localhost:8080/"
        },
        "id": "XAaAQbuIMYYD",
        "outputId": "18144086-0a9c-4eca-ea46-8d8513e9c7d6"
      },
      "outputs": [
        {
          "name": "stdout",
          "output_type": "stream",
          "text": [
            "Digite o primeiro número:60\n",
            "Digite o segundo número:1580\n",
            "A média aritmétrica entre 60.0 1580.0 é 820.0\n"
          ]
        }
      ],
      "source": [
        "num1 = float(input(\"Digite o primeiro número:\"))\n",
        "num2 = float(input(\"Digite o segundo número:\"))\n",
        "media = (num1 + num2) / 2\n",
        "print(\"A média aritmétrica entre\", num1, num2, \"é\" , media)"
      ]
    },
    {
      "cell_type": "markdown",
      "metadata": {
        "id": "gECqReymMbJj"
      },
      "source": [
        "1 Calcuradora de Médias:  Para as médias usamos duas operações das quatro operações matemáticas: +, /."
      ]
    },
    {
      "cell_type": "code",
      "execution_count": null,
      "metadata": {
        "colab": {
          "base_uri": "https://localhost:8080/"
        },
        "id": "xs1WiIDoM1_1",
        "outputId": "05907d67-ad00-4ed5-c78f-208fd2b55e71"
      },
      "outputs": [
        {
          "name": "stdout",
          "output_type": "stream",
          "text": [
            "Digite uma string: Hello Word \n",
            "\n",
            "Contagem de caracteres:\n",
            "'H': 1\n",
            "'e': 1\n",
            "'l': 2\n",
            "'o': 2\n",
            "'W': 1\n",
            "'r': 1\n",
            "'d': 1\n"
          ]
        }
      ],
      "source": [
        "def contar_caracteres(texto):\n",
        "    contagem = {}\n",
        "\n",
        "    for caractere in texto:\n",
        "        if caractere == ' ':\n",
        "            continue  # Ignora espaços\n",
        "        if caractere in contagem:\n",
        "            contagem[caractere] += 1\n",
        "        else:\n",
        "            contagem[caractere] = 1\n",
        "\n",
        "    return contagem\n",
        "\n",
        "# Solicita a entrada do usuário\n",
        "entrada = input(\"Digite uma string: \")\n",
        "\n",
        "# Conta os caracteres\n",
        "resultado = contar_caracteres(entrada)\n",
        "\n",
        "# Exibe o resultado\n",
        "print(\"\\nContagem de caracteres:\")\n",
        "for caractere, quantidade in resultado.items():\n",
        "    print(f\"'{caractere}': {quantidade}\")"
      ]
    },
    {
      "cell_type": "markdown",
      "metadata": {
        "id": "miGOVeDtM6F5"
      },
      "source": [
        "2 Contador de Cracteres"
      ]
    },
    {
      "cell_type": "code",
      "execution_count": null,
      "metadata": {
        "colab": {
          "base_uri": "https://localhost:8080/"
        },
        "id": "IY8huGELNQe6",
        "outputId": "99be7de0-807b-43bc-8ab7-cd624f8c31b2"
      },
      "outputs": [
        {
          "name": "stdout",
          "output_type": "stream",
          "text": [
            "\"Ame a sua familia\" → Não é um palíndromo.\n",
            "\"A vida e curta e as emoções que podemos deixar duram uma eternidade\" → Não é um palíndromo.\n",
            "\"Fazer maratona de serie\" → Não é um palíndromo.\n",
            "\"Python é facil\" → Não é um palíndromo.\n",
            "\"AParque da Disney!\" → Não é um palíndromo.\n"
          ]
        }
      ],
      "source": [
        "import string\n",
        "\n",
        "def eh_palindromo(texto):\n",
        "    # Converte para minúsculas\n",
        "    texto = texto.lower()\n",
        "\n",
        "    # Remove espaços e pontuações\n",
        "    texto = ''.join(char for char in texto if char.isalnum())\n",
        "\n",
        "    # Verifica se é igual ao reverso\n",
        "    return texto == texto[::-1]\n",
        "\n",
        "# Testes\n",
        "frases = [\n",
        "    \"Ame a sua familia\",\n",
        "    \"A vida e curta e as emoções que podemos deixar duram uma eternidade\",\n",
        "    \"Fazer maratona de serie\",\n",
        "    \"Python é facil\",\n",
        "    \"AParque da Disney!\"\n",
        "]\n",
        "\n",
        "for frase in frases:\n",
        "    if eh_palindromo(frase):\n",
        "        print(f'\"{frase}\" → É um palíndromo!')\n",
        "    else:\n",
        "        print(f'\"{frase}\" → Não é um palíndromo.')"
      ]
    },
    {
      "cell_type": "markdown",
      "metadata": {
        "id": "LIaFx-wsNRMq"
      },
      "source": [
        "3 Verificador de Palindromo"
      ]
    },
    {
      "cell_type": "code",
      "execution_count": null,
      "metadata": {
        "colab": {
          "base_uri": "https://localhost:8080/"
        },
        "id": "E0IfYXUNNyJt",
        "outputId": "e9f09c6e-edf4-42b0-ff23-4ef0bffe9464"
      },
      "outputs": [
        {
          "name": "stdout",
          "output_type": "stream",
          "text": [
            "escolha uma conversão:\n",
            "1 - Celsius para Fahrenheit\n",
            "2 - Fahrenheit para Celsius\n",
            "Digite 1 ou 2: 1\n",
            "Digite a temperatura em Celsius38\n",
            "38.0°C equivale a 100.40°F\n"
          ]
        }
      ],
      "source": [
        "print(\"escolha uma conversão:\")\n",
        "print(\"1 - Celsius para Fahrenheit\")\n",
        "print(\"2 - Fahrenheit para Celsius\")\n",
        "opcao = input(\"Digite 1 ou 2: \")\n",
        "if opcao == '1':\n",
        "  celso = float(input(\"Digite a temperatura em Celsius\"))\n",
        "  fahrenheit = (celso * 9/5) + 32\n",
        "  print(f\"{celso}°C equivale a {fahrenheit:.2f}°F\")\n",
        "elif opcao == '2':\n",
        "  fahrenheit = float(input(\"Digite a temperatura em Fahrenheit\"))\n",
        "  celso = (fahrenheit - 32) * 5/9\n",
        "  print(f\"{fahrenheit}°F equivale a {celso:.2f}°C\")\n",
        "else:\n",
        "  print(\"opção inválida\")"
      ]
    },
    {
      "cell_type": "markdown",
      "metadata": {
        "id": "K_F48mXGNzAq"
      },
      "source": [
        "4 Conversor de Temperatura"
      ]
    },
    {
      "cell_type": "code",
      "execution_count": null,
      "metadata": {
        "colab": {
          "base_uri": "https://localhost:8080/"
        },
        "id": "zF0vBJNlN8i1",
        "outputId": "fa586d1d-3a6d-4c0b-9356-0af932c82a29"
      },
      "outputs": [
        {
          "name": "stdout",
          "output_type": "stream",
          "text": [
            "Digite um número para ver na tabuada: 97\n",
            "\n",
            "Tabuada do 97: \n",
            "97 * 1 = 97\n",
            "97 * 2 = 194\n",
            "97 * 3 = 291\n",
            "97 * 4 = 388\n",
            "97 * 5 = 485\n",
            "97 * 6 = 582\n",
            "97 * 7 = 679\n",
            "97 * 8 = 776\n",
            "97 * 9 = 873\n",
            "97 * 10 = 970\n"
          ]
        }
      ],
      "source": [
        "numero = int(input(\"Digite um número para ver na tabuada: \"))\n",
        "print(f\"\\nTabuada do {numero}: \")\n",
        "for i in range(1 , 11):\n",
        "  resultado = numero *i\n",
        "  print(f\"{numero} * {i} = {resultado}\")"
      ]
    },
    {
      "cell_type": "markdown",
      "metadata": {
        "id": "gciofKdRN9eo"
      },
      "source": [
        "5 Gerador de Tabuada"
      ]
    },
    {
      "cell_type": "code",
      "execution_count": null,
      "metadata": {
        "colab": {
          "base_uri": "https://localhost:8080/"
        },
        "id": "tY9cQD0LOJsz",
        "outputId": "c4619de0-86b9-4589-d7f2-ed858efe31bf"
      },
      "outputs": [
        {
          "name": "stdout",
          "output_type": "stream",
          "text": [
            "Quantas vezes deseja lançar o dado? 50\n",
            "\n",
            "Resultados dos lançamentos:\n",
            "Lançamento 1: 1\n",
            "Lançamento 2: 5\n",
            "Lançamento 3: 3\n",
            "Lançamento 4: 6\n",
            "Lançamento 5: 3\n",
            "Lançamento 6: 6\n",
            "Lançamento 7: 3\n",
            "Lançamento 8: 4\n",
            "Lançamento 9: 3\n",
            "Lançamento 10: 1\n",
            "Lançamento 11: 2\n",
            "Lançamento 12: 4\n",
            "Lançamento 13: 3\n",
            "Lançamento 14: 4\n",
            "Lançamento 15: 1\n",
            "Lançamento 16: 3\n",
            "Lançamento 17: 4\n",
            "Lançamento 18: 3\n",
            "Lançamento 19: 1\n",
            "Lançamento 20: 6\n",
            "Lançamento 21: 2\n",
            "Lançamento 22: 4\n",
            "Lançamento 23: 3\n",
            "Lançamento 24: 4\n",
            "Lançamento 25: 1\n",
            "Lançamento 26: 2\n",
            "Lançamento 27: 5\n",
            "Lançamento 28: 3\n",
            "Lançamento 29: 3\n",
            "Lançamento 30: 3\n",
            "Lançamento 31: 5\n",
            "Lançamento 32: 6\n",
            "Lançamento 33: 3\n",
            "Lançamento 34: 3\n",
            "Lançamento 35: 4\n",
            "Lançamento 36: 2\n",
            "Lançamento 37: 3\n",
            "Lançamento 38: 2\n",
            "Lançamento 39: 6\n",
            "Lançamento 40: 6\n",
            "Lançamento 41: 5\n",
            "Lançamento 42: 1\n",
            "Lançamento 43: 6\n",
            "Lançamento 44: 1\n",
            "Lançamento 45: 4\n",
            "Lançamento 46: 3\n",
            "Lançamento 47: 5\n",
            "Lançamento 48: 3\n",
            "Lançamento 49: 2\n",
            "Lançamento 50: 4\n"
          ]
        }
      ],
      "source": [
        "import random\n",
        "\n",
        "# Solicita quantos lançamentos o usuário deseja fazer\n",
        "quantidade = int(input(\"Quantas vezes deseja lançar o dado? \"))\n",
        "\n",
        "print(\"\\nResultados dos lançamentos:\")\n",
        "for i in range(1, quantidade + 1):\n",
        "    resultado = random.randint(1, 6)  # número aleatório de 1 a 6\n",
        "    print(f\"Lançamento {i}: {resultado}\")"
      ]
    },
    {
      "cell_type": "markdown",
      "metadata": {
        "id": "aHaBaHVyOKuR"
      },
      "source": [
        "6 Simulador de Lançamento de Dados"
      ]
    },
    {
      "cell_type": "code",
      "execution_count": null,
      "metadata": {
        "colab": {
          "base_uri": "https://localhost:8080/"
        },
        "id": "WkrUbZcuOnnx",
        "outputId": "a49c4ed5-6429-405a-a1a4-5bae10bafd34"
      },
      "outputs": [
        {
          "name": "stdout",
          "output_type": "stream",
          "text": [
            "Digite uma lista de números separados por espaço ou vírgula: 20,15,1897\n",
            "\n",
            "Lista original: [20, 15, 1897]\n",
            "Lista ordenada: [15, 20, 1897]\n"
          ]
        }
      ],
      "source": [
        "entrada = input(\"Digite uma lista de números separados por espaço ou vírgula: \")\n",
        "entrada = entrada.replace(\",\", \" \")\n",
        "numeros = [int(n) for n in entrada.split() if n.strip().isdigit()]\n",
        "print(\"\\nLista original:\", numeros)\n",
        "numeros.sort()\n",
        "print(\"Lista ordenada:\", numeros)"
      ]
    },
    {
      "cell_type": "markdown",
      "metadata": {
        "id": "clY0kGH8Oop9"
      },
      "source": [
        "7 Ordenação de Lista"
      ]
    },
    {
      "cell_type": "code",
      "execution_count": null,
      "metadata": {
        "colab": {
          "base_uri": "https://localhost:8080/"
        },
        "id": "3cUKJYa7O_lx",
        "outputId": "ec1596f5-cd08-4ab6-9bc4-957403963d6f"
      },
      "outputs": [
        {
          "name": "stdout",
          "output_type": "stream",
          "text": [
            "Digite o numero inteiro: 8972\n",
            "\n",
            "Divisores de 8972: [1]\n",
            "\n",
            "Divisores de 8972: [1, 2]\n",
            "\n",
            "Divisores de 8972: [1, 2, 4]\n",
            "\n",
            "Divisores de 8972: [1, 2, 4, 2243]\n",
            "\n",
            "Divisores de 8972: [1, 2, 4, 2243, 4486]\n",
            "\n",
            "Divisores de 8972: [1, 2, 4, 2243, 4486, 8972]\n",
            "8972 NÃO é um número primo.\n"
          ]
        }
      ],
      "source": [
        "numero = int(input(\"Digite o numero inteiro: \"))\n",
        "divisores = []\n",
        "for i in range( 1 , numero + 1):\n",
        "  if numero % i == 0:\n",
        "    divisores. append(i)\n",
        "    print(f\"\\nDivisores de {numero}: {divisores}\")\n",
        "if len(divisores) == 2:\n",
        "  print(f\"{numero} é um numero primo. \")\n",
        "else:\n",
        "  print(f\"{numero} NÃO é um número primo.\")"
      ]
    },
    {
      "cell_type": "markdown",
      "metadata": {
        "id": "7MJTPFKZPBCY"
      },
      "source": [
        "8 Verificação de Números Primos"
      ]
    },
    {
      "cell_type": "code",
      "execution_count": null,
      "metadata": {
        "colab": {
          "base_uri": "https://localhost:8080/"
        },
        "id": "04yXFUoGPODZ",
        "outputId": "fc9a61a6-ee7d-41e5-e572-22aaeeaab768"
      },
      "outputs": [
        {
          "name": "stdout",
          "output_type": "stream",
          "text": [
            "\n",
            "--- Sistema de Login ---\n",
            "1 - Cadastrar\n",
            "2 - Login\n",
            "3 - Sair\n",
            "Escolha uma opção: 1\n",
            "\n",
            "--- Cadastro de Usuário ---\n",
            "Digite o nome de usuário: Luisa\n",
            "Digite a senha: luiderella\n",
            " Usuário cadastrado com sucesso!\n",
            "\n",
            "--- Sistema de Login ---\n",
            "1 - Cadastrar\n",
            "2 - Login\n",
            "3 - Sair\n",
            "Escolha uma opção: 2\n",
            "\n",
            "--- Login ---\n",
            "Digite o nome de usuário: Luisa\n",
            "Digite a senha: luiderella\n",
            " Login bem-sucedido! Bem-vindo(a), Luisa!\n",
            "\n",
            "--- Sistema de Login ---\n",
            "1 - Cadastrar\n",
            "2 - Login\n",
            "3 - Sair\n",
            "Escolha uma opção: 3\n",
            " Encerrando o sistema...\n"
          ]
        }
      ],
      "source": [
        "# Dicionário para armazenar os usuários e senhas\n",
        "usuarios = {}\n",
        "\n",
        "def cadastrar():\n",
        "    print(\"\\n--- Cadastro de Usuário ---\")\n",
        "    usuario = input(\"Digite o nome de usuário: \")\n",
        "\n",
        "    if usuario in usuarios:\n",
        "        print(\" Este nome de usuário já existe!\")\n",
        "        return\n",
        "\n",
        "    senha = input(\"Digite a senha: \")\n",
        "    usuarios[usuario] = senha\n",
        "    print(\" Usuário cadastrado com sucesso!\")\n",
        "\n",
        "def login():\n",
        "    print(\"\\n--- Login ---\")\n",
        "    usuario = input(\"Digite o nome de usuário: \")\n",
        "    senha = input(\"Digite a senha: \")\n",
        "\n",
        "    if usuario in usuarios and usuarios[usuario] == senha:\n",
        "        print(f\" Login bem-sucedido! Bem-vindo(a), {usuario}!\")\n",
        "    else:\n",
        "        print(\" Nome de usuário ou senha incorretos.\")\n",
        "\n",
        "def menu():\n",
        "    while True:\n",
        "        print(\"\\n--- Sistema de Login ---\")\n",
        "        print(\"1 - Cadastrar\")\n",
        "        print(\"2 - Login\")\n",
        "        print(\"3 - Sair\")\n",
        "\n",
        "        opcao = input(\"Escolha uma opção: \")\n",
        "\n",
        "        if opcao == \"1\":\n",
        "            cadastrar()\n",
        "        elif opcao == \"2\":\n",
        "            login()\n",
        "        elif opcao == \"3\":\n",
        "            print(\" Encerrando o sistema...\")\n",
        "            break\n",
        "        else:\n",
        "            print(\" Opção inválida! Tente novamente.\")\n",
        "\n",
        "# Executa o sistema\n",
        "menu()\n"
      ]
    },
    {
      "cell_type": "markdown",
      "metadata": {
        "id": "OEnDw8FTPO1g"
      },
      "source": [
        "9 Sistema de Login Simples"
      ]
    },
    {
      "cell_type": "code",
      "execution_count": null,
      "metadata": {
        "colab": {
          "base_uri": "https://localhost:8080/"
        },
        "id": "ZIBP2ce-PzvM",
        "outputId": "b80ff2dc-698e-477e-dbd7-b2c8b8a2da86"
      },
      "outputs": [
        {
          "name": "stdout",
          "output_type": "stream",
          "text": [
            "Digite um número inteiro: 15\n",
            "O fatorial de 15 é 1307674368000\n"
          ]
        }
      ],
      "source": [
        "# Solicita o número ao usuário\n",
        "numero = int(input(\"Digite um número inteiro: \"))\n",
        "\n",
        "# Inicializa o fatorial como 1\n",
        "fatorial = 1\n",
        "\n",
        "# Calcula o fatorial usando loop for\n",
        "for i in range(1, numero + 1):\n",
        "    fatorial *= i  # Multiplica acumulativamente\n",
        "\n",
        "# Exibe o resultado\n",
        "print(f\"O fatorial de {numero} é {fatorial}\")"
      ]
    },
    {
      "cell_type": "markdown",
      "metadata": {
        "id": "X9oGuRuWP1Ho"
      },
      "source": [
        "10 Calculadora de Fatorial"
      ]
    },
    {
      "cell_type": "code",
      "execution_count": null,
      "metadata": {
        "colab": {
          "base_uri": "https://localhost:8080/"
        },
        "id": "pQopYIYWQGrr",
        "outputId": "53b017c9-5bb1-4867-8a51-1cbf7f1ac911"
      },
      "outputs": [
        {
          "name": "stdout",
          "output_type": "stream",
          "text": [
            "Digite o valor em reais (R$): 1524\n",
            "\n",
            "Escolha a moeda de destino:\n",
            "1 - Dólar (USD)\n",
            "2 - Euro (EUR)\n",
            "Digite a opção desejada (1 ou 2): 1\n",
            "R$ 1524.00 equivalem a US$ 293.08\n"
          ]
        }
      ],
      "source": [
        "# Taxas de câmbio fixas\n",
        "TAXA_DOLAR = 5.20  # 1 dólar = 5,20 reais\n",
        "TAXA_EURO = 5.70   # 1 euro = 5,70 reais\n",
        "\n",
        "# Entrada do valor em reais\n",
        "valor_reais = float(input(\"Digite o valor em reais (R$): \"))\n",
        "\n",
        "# Escolha da moeda de destino\n",
        "print(\"\\nEscolha a moeda de destino:\")\n",
        "print(\"1 - Dólar (USD)\")\n",
        "print(\"2 - Euro (EUR)\")\n",
        "opcao = int(input(\"Digite a opção desejada (1 ou 2): \"))\n",
        "\n",
        "# Conversão e saída\n",
        "if opcao == 1:\n",
        "    valor_convertido = valor_reais / TAXA_DOLAR\n",
        "    print(f\"R$ {valor_reais:.2f} equivalem a US$ {valor_convertido:.2f}\")\n",
        "elif opcao == 2:\n",
        "    valor_convertido = valor_reais / TAXA_EURO\n",
        "    print(f\"R$ {valor_reais:.2f} equivalem a € {valor_convertido:.2f}\")\n",
        "else:\n",
        "    print(\"Opção inválida! Escolha 1 para Dólar ou 2 para Euro.\")"
      ]
    },
    {
      "cell_type": "markdown",
      "metadata": {
        "id": "2rbZdYRJQHqx"
      },
      "source": [
        "11 Convertor de Moedas Simples"
      ]
    },
    {
      "cell_type": "code",
      "execution_count": null,
      "metadata": {
        "colab": {
          "base_uri": "https://localhost:8080/"
        },
        "id": "rnYvHfjyQmJK",
        "outputId": "cb4362b0-2a26-4139-8c08-11efdf9fbb5b"
      },
      "outputs": [
        {
          "name": "stdout",
          "output_type": "stream",
          "text": [
            "Digite uma frase: I'm a sucker for you say the word and I'll go any where blindly\n",
            "A frase contém 14 palavra(s).\n"
          ]
        }
      ],
      "source": [
        "import string\n",
        "\n",
        "# Solicita a frase do usuário\n",
        "frase = input(\"Digite uma frase: \")\n",
        "\n",
        "# Remove pontuações\n",
        "frase_sem_pontuacao = \"\".join(char for char in frase if char not in string.punctuation)\n",
        "\n",
        "# Separa as palavras e conta\n",
        "palavras = frase_sem_pontuacao.split()\n",
        "quantidade = len(palavras)\n",
        "\n",
        "# Exibe o resultado\n",
        "print(f\"A frase contém {quantidade} palavra(s).\")"
      ]
    },
    {
      "cell_type": "markdown",
      "metadata": {
        "id": "vp72xD9hQm4I"
      },
      "source": [
        "12 Contador de Palavras"
      ]
    },
    {
      "cell_type": "code",
      "execution_count": null,
      "metadata": {
        "colab": {
          "base_uri": "https://localhost:8080/"
        },
        "id": "jhYOiJNERKfZ",
        "outputId": "91a31801-17c6-400e-b910-b85a4cf4ec3e"
      },
      "outputs": [
        {
          "name": "stdout",
          "output_type": "stream",
          "text": [
            "Quantos números aleatórios deseja gerar? 150\n",
            "Digite o limite inferior do intervalo: 5\n",
            "Digite o limite superior do intervalo: 10\n",
            "\n",
            "150 números aleatórios entre 5 e 10:\n",
            "7\n",
            "6\n",
            "8\n",
            "9\n",
            "10\n",
            "9\n",
            "7\n",
            "6\n",
            "10\n",
            "9\n",
            "5\n",
            "7\n",
            "5\n",
            "9\n",
            "8\n",
            "9\n",
            "8\n",
            "5\n",
            "6\n",
            "6\n",
            "8\n",
            "6\n",
            "10\n",
            "10\n",
            "5\n",
            "8\n",
            "10\n",
            "5\n",
            "8\n",
            "8\n",
            "9\n",
            "8\n",
            "8\n",
            "7\n",
            "10\n",
            "9\n",
            "5\n",
            "6\n",
            "9\n",
            "8\n",
            "6\n",
            "8\n",
            "7\n",
            "10\n",
            "5\n",
            "8\n",
            "6\n",
            "5\n",
            "6\n",
            "7\n",
            "5\n",
            "8\n",
            "5\n",
            "7\n",
            "10\n",
            "7\n",
            "7\n",
            "5\n",
            "5\n",
            "6\n",
            "10\n",
            "9\n",
            "8\n",
            "7\n",
            "10\n",
            "8\n",
            "7\n",
            "9\n",
            "7\n",
            "6\n",
            "7\n",
            "9\n",
            "10\n",
            "7\n",
            "8\n",
            "9\n",
            "5\n",
            "5\n",
            "7\n",
            "6\n",
            "8\n",
            "10\n",
            "8\n",
            "7\n",
            "6\n",
            "10\n",
            "5\n",
            "5\n",
            "10\n",
            "6\n",
            "9\n",
            "5\n",
            "6\n",
            "6\n",
            "5\n",
            "7\n",
            "9\n",
            "10\n",
            "8\n",
            "10\n",
            "10\n",
            "7\n",
            "9\n",
            "7\n",
            "10\n",
            "6\n",
            "9\n",
            "9\n",
            "9\n",
            "6\n",
            "5\n",
            "6\n",
            "9\n",
            "8\n",
            "5\n",
            "7\n",
            "9\n",
            "6\n",
            "7\n",
            "8\n",
            "5\n",
            "5\n",
            "8\n",
            "10\n",
            "9\n",
            "10\n",
            "9\n",
            "9\n",
            "10\n",
            "5\n",
            "5\n",
            "6\n",
            "10\n",
            "8\n",
            "9\n",
            "7\n",
            "10\n",
            "9\n",
            "10\n",
            "5\n",
            "5\n",
            "9\n",
            "6\n",
            "9\n",
            "6\n",
            "7\n",
            "5\n",
            "9\n",
            "6\n",
            "8\n"
          ]
        }
      ],
      "source": [
        "import random\n",
        "\n",
        "# Solicita os dados ao usuário\n",
        "n = int(input(\"Quantos números aleatórios deseja gerar? \"))\n",
        "limite_inferior = int(input(\"Digite o limite inferior do intervalo: \"))\n",
        "limite_superior = int(input(\"Digite o limite superior do intervalo: \"))\n",
        "\n",
        "# Verifica se o intervalo é válido\n",
        "if limite_inferior > limite_superior:\n",
        "    print(\"Erro: o limite inferior não pode ser maior que o limite superior.\")\n",
        "else:\n",
        "    print(f\"\\n{n} números aleatórios entre {limite_inferior} e {limite_superior}:\")\n",
        "    for i in range(n):\n",
        "        numero = random.randint(limite_inferior, limite_superior)\n",
        "        print(numero)"
      ]
    },
    {
      "cell_type": "markdown",
      "metadata": {
        "id": "JvNJb5sDRKyw"
      },
      "source": [
        "13 Gerador de Númenros Aleatórios"
      ]
    },
    {
      "cell_type": "code",
      "execution_count": null,
      "metadata": {
        "colab": {
          "base_uri": "https://localhost:8080/"
        },
        "id": "8LQ1gK9ZRwNq",
        "outputId": "b3fcffb8-a61c-4124-d27b-6af19c001529"
      },
      "outputs": [
        {
          "name": "stdout",
          "output_type": "stream",
          "text": [
            "Quantas notas deseja inserir? 2\n",
            "Digite a nota 1: 5\n",
            "Digite o peso da nota 1: 9\n",
            "Digite a nota 2: 5\n",
            "Digite o peso da nota 2: 6\n",
            "\n",
            "A média ponderada é: 5.00\n"
          ]
        }
      ],
      "source": [
        "# Inicializa listas para notas e pesos\n",
        "notas = []\n",
        "pesos = []\n",
        "\n",
        "# Solicita ao usuário a quantidade de notas\n",
        "qtd = int(input(\"Quantas notas deseja inserir? \"))\n",
        "\n",
        "# Loop para receber cada nota e seu peso\n",
        "for i in range(1, qtd + 1):\n",
        "    nota = float(input(f\"Digite a nota {i}: \"))\n",
        "    peso = float(input(f\"Digite o peso da nota {i}: \"))\n",
        "    notas.append(nota)\n",
        "    pesos.append(peso)\n",
        "\n",
        "# Calcula a média ponderada\n",
        "soma_ponderada = sum(n * p for n, p in zip(notas, pesos))\n",
        "soma_pesos = sum(pesos)\n",
        "media_ponderada = soma_ponderada / soma_pesos\n",
        "\n",
        "# Exibe o resultado\n",
        "print(f\"\\nA média ponderada é: {media_ponderada:.2f}\")"
      ]
    },
    {
      "cell_type": "markdown",
      "metadata": {
        "id": "AHp68QUtRw64"
      },
      "source": [
        "14 Calculadora de Média Ponderada"
      ]
    },
    {
      "cell_type": "code",
      "execution_count": null,
      "metadata": {
        "colab": {
          "base_uri": "https://localhost:8080/"
        },
        "id": "Txdmp4YtSj1O",
        "outputId": "334f7254-11ce-4aa4-9685-d9cfb2ba2609"
      },
      "outputs": [
        {
          "name": "stdout",
          "output_type": "stream",
          "text": [
            "Digite um número para calcular a raiz quadrada: 630\n",
            "A raiz quadrada de 630.0 é 25.10\n"
          ]
        }
      ],
      "source": [
        "import math\n",
        "\n",
        "# Solicita o número ao usuário\n",
        "numero = float(input(\"Digite um número para calcular a raiz quadrada: \"))\n",
        "\n",
        "# Verifica se o número é negativo\n",
        "if numero < 0:\n",
        "    print(\"Não é possível calcular a raiz quadrada de um número negativo.\")\n",
        "else:\n",
        "    raiz = math.sqrt(numero)\n",
        "    print(f\"A raiz quadrada de {numero} é {raiz:.2f}\")"
      ]
    },
    {
      "cell_type": "markdown",
      "metadata": {
        "id": "CEyTREiJSo0n"
      },
      "source": [
        "15 Cálculo de Raiz Quadrado"
      ]
    },
    {
      "cell_type": "code",
      "execution_count": null,
      "metadata": {
        "colab": {
          "base_uri": "https://localhost:8080/"
        },
        "id": "4hdd1yNYXfwI",
        "outputId": "c804aec5-c3c7-4053-a65a-f042eb2a3ea3"
      },
      "outputs": [
        {
          "name": "stdout",
          "output_type": "stream",
          "text": [
            "=== Caixa Eletrônico ===\n",
            "Digite o valor que deseja sacar (múltiplo de 10): R$ 500\n",
            "\n",
            "Notas entregues:\n",
            "R$ 100: 5 nota(s)\n"
          ]
        }
      ],
      "source": [
        "def caixa_eletronico():\n",
        "    print(\"=== Caixa Eletrônico ===\")\n",
        "\n",
        "    try:\n",
        "        valor = int(input(\"Digite o valor que deseja sacar (múltiplo de 10): R$ \"))\n",
        "\n",
        "        if valor <= 0 or valor % 10 != 0:\n",
        "            print(\"Valor inválido. Digite um valor positivo e múltiplo de 10.\")\n",
        "            return\n",
        "\n",
        "        notas = [100, 50, 20, 10]\n",
        "        resultado = {}\n",
        "\n",
        "        for nota in notas:\n",
        "            qtd, valor = divmod(valor, nota)\n",
        "            if qtd > 0:\n",
        "                resultado[nota] = qtd\n",
        "\n",
        "        print(\"\\nNotas entregues:\")\n",
        "        for nota in notas:\n",
        "            if nota in resultado:\n",
        "                print(f\"R$ {nota}: {resultado[nota]} nota(s)\")\n",
        "\n",
        "    except ValueError:\n",
        "        print(\"Entrada inválida. Digite apenas números inteiros.\")\n",
        "\n",
        "# Executar o programa\n",
        "caixa_eletronico()\n"
      ]
    },
    {
      "cell_type": "markdown",
      "metadata": {
        "id": "o-xLj7S7Xglm"
      },
      "source": [
        "16 Simulador de Caixa Eletrônico"
      ]
    },
    {
      "cell_type": "code",
      "execution_count": null,
      "metadata": {
        "colab": {
          "base_uri": "https://localhost:8080/"
        },
        "id": "e3LjkX2sX_3O",
        "outputId": "8c3b759c-7da9-42e6-9e19-296d6411e7f7"
      },
      "outputs": [
        {
          "name": "stdout",
          "output_type": "stream",
          "text": [
            "Digite um ano: 1997\n",
            "1997 não é um ano bissexto.\n"
          ]
        }
      ],
      "source": [
        "# Solicita o ano ao usuário\n",
        "ano = int(input(\"Digite um ano: \"))\n",
        "\n",
        "# Verifica se é bissexto\n",
        "if (ano % 4 == 0 and ano % 100 != 0) or (ano % 400 == 0):\n",
        "    print(f\"{ano} é um ano bissexto.\")\n",
        "else:\n",
        "    print(f\"{ano} não é um ano bissexto.\")"
      ]
    },
    {
      "cell_type": "markdown",
      "metadata": {
        "id": "f326xdZ4YAMx"
      },
      "source": [
        "17 Verificador de Ano Bissexto"
      ]
    },
    {
      "cell_type": "code",
      "execution_count": null,
      "metadata": {
        "colab": {
          "background_save": true,
          "base_uri": "https://localhost:8080/"
        },
        "id": "xhlEvTkuYUTg",
        "outputId": "02480a88-15a6-4c80-f78f-88b2b31031d7"
      },
      "outputs": [
        {
          "name": "stdout",
          "output_type": "stream",
          "text": [
            "\n",
            "=== Gerenciador de Contatos ===\n",
            "1 - Adicionar contato\n",
            "2 - Remover contato\n",
            "3 - Listar contatos\n",
            "4 - Sair\n",
            "Contato 'Luisa Alves' adicionado com sucesso.\n",
            "\n",
            "=== Gerenciador de Contatos ===\n",
            "1 - Adicionar contato\n",
            "2 - Remover contato\n",
            "3 - Listar contatos\n",
            "4 - Sair\n",
            "Contato 'Joao Ladrão' adicionado com sucesso.\n",
            "\n",
            "=== Gerenciador de Contatos ===\n",
            "1 - Adicionar contato\n",
            "2 - Remover contato\n",
            "3 - Listar contatos\n",
            "4 - Sair\n",
            "Contato 'Mariazinha' adicionado com sucesso.\n",
            "\n",
            "=== Gerenciador de Contatos ===\n",
            "1 - Adicionar contato\n",
            "2 - Remover contato\n",
            "3 - Listar contatos\n",
            "4 - Sair\n",
            "Opção inválida. Tente novamente.\n",
            "\n",
            "=== Gerenciador de Contatos ===\n",
            "1 - Adicionar contato\n",
            "2 - Remover contato\n",
            "3 - Listar contatos\n",
            "4 - Sair\n",
            "\n",
            "--- Lista de Contatos ---\n",
            "Nome: Joao Ladrão | Telefone: 1165478563\n",
            "Nome: Luisa Alves | Telefone: 11975662662\n",
            "Nome: Mariazinha | Telefone: 11365648678\n",
            "\n",
            "=== Gerenciador de Contatos ===\n",
            "1 - Adicionar contato\n",
            "2 - Remover contato\n",
            "3 - Listar contatos\n",
            "4 - Sair\n",
            "Contato 'Mariazinha' removido com sucesso.\n",
            "\n",
            "=== Gerenciador de Contatos ===\n",
            "1 - Adicionar contato\n",
            "2 - Remover contato\n",
            "3 - Listar contatos\n",
            "4 - Sair\n",
            "\n",
            "--- Lista de Contatos ---\n",
            "Nome: Joao Ladrão | Telefone: 1165478563\n",
            "Nome: Luisa Alves | Telefone: 11975662662\n",
            "\n",
            "=== Gerenciador de Contatos ===\n",
            "1 - Adicionar contato\n",
            "2 - Remover contato\n",
            "3 - Listar contatos\n",
            "4 - Sair\n"
          ]
        }
      ],
      "source": [
        "def exibir_menu():\n",
        "    \"\"\"Exibe o menu de opções para o usuário.\"\"\"\n",
        "    print(\"\\n=== Gerenciador de Contatos ===\")\n",
        "    print(\"1 - Adicionar contato\")\n",
        "    print(\"2 - Remover contato\")\n",
        "    print(\"3 - Listar contatos\")\n",
        "    print(\"4 - Sair\")\n",
        "\n",
        "def adicionar_contato(contatos):\n",
        "    \"\"\"Adiciona um novo contato ao dicionário.\"\"\"\n",
        "    nome = input(\"Digite o nome do contato: \").strip().title()\n",
        "    if nome in contatos:\n",
        "        print(\"Contato já existe!\")\n",
        "    else:\n",
        "        telefone = input(\"Digite o telefone: \").strip()\n",
        "        contatos[nome] = telefone\n",
        "        print(f\"Contato '{nome}' adicionado com sucesso.\")\n",
        "\n",
        "def remover_contato(contatos):\n",
        "    \"\"\"Remove um contato do dicionário.\"\"\"\n",
        "    nome = input(\"Digite o nome do contato que deseja remover: \").strip().title()\n",
        "    if nome in contatos:\n",
        "        del contatos[nome]\n",
        "        print(f\"Contato '{nome}' removido com sucesso.\")\n",
        "    else:\n",
        "        print(\"Contato não encontrado.\")\n",
        "\n",
        "def listar_contatos(contatos):\n",
        "    \"\"\"Exibe a lista de todos os contatos.\"\"\"\n",
        "    if not contatos:\n",
        "        print(\"Nenhum contato cadastrado.\")\n",
        "    else:\n",
        "        print(\"\\n--- Lista de Contatos ---\")\n",
        "        # Itera sobre os itens do dicionário, ordenando-os pelo nome.\n",
        "        for nome, telefone in sorted(contatos.items()):\n",
        "            print(f\"Nome: {nome} | Telefone: {telefone}\")\n",
        "\n",
        "def gerenciador_contatos():\n",
        "    \"\"\"Função principal que gerencia o fluxo do programa.\"\"\"\n",
        "    contatos = {}\n",
        "\n",
        "    while True:\n",
        "        exibir_menu()\n",
        "        opcao = input(\"Escolha uma opção: \").strip()\n",
        "\n",
        "        if opcao == '1':\n",
        "            adicionar_contato(contatos)\n",
        "        elif opcao == '2':\n",
        "            remover_contato(contatos)\n",
        "        elif opcao == '3':\n",
        "            listar_contatos(contatos)\n",
        "        elif opcao == '4':\n",
        "            print(\"Encerrando o programa. Até mais!\")\n",
        "            break\n",
        "        else:\n",
        "            print(\"Opção inválida. Tente novamente.\")\n",
        "\n",
        "# Executa a função principal quando o script é iniciado.\n",
        "if __name__ == \"__main__\":\n",
        "    gerenciador_contatos()"
      ]
    },
    {
      "cell_type": "markdown",
      "metadata": {
        "id": "b0Y3KmzjYUiZ"
      },
      "source": [
        "18 Gerenciador de Contatos Simples"
      ]
    },
    {
      "cell_type": "code",
      "execution_count": null,
      "metadata": {
        "colab": {
          "base_uri": "https://localhost:8080/"
        },
        "id": "O4YrHEaeY6CG",
        "outputId": "87f4fb90-4954-4b5c-ecc1-d6b063cd5ade"
      },
      "outputs": [
        {
          "name": "stdout",
          "output_type": "stream",
          "text": [
            "Digite o preço original do produto: R$ 250\n",
            "Digite a porcentagem de desconto (%): 30\n",
            "O preço final do produto com 30.00% de desconto é: R$ 175.00\n"
          ]
        }
      ],
      "source": [
        "# Solicita os dados ao usuário\n",
        "preco_original = float(input(\"Digite o preço original do produto: R$ \"))\n",
        "desconto = float(input(\"Digite a porcentagem de desconto (%): \"))\n",
        "\n",
        "# Calcula o preço final\n",
        "preco_final = preco_original * (1 - desconto / 100)\n",
        "\n",
        "# Exibe o resultado\n",
        "print(f\"O preço final do produto com {desconto:.2f}% de desconto é: R$ {preco_final:.2f}\")"
      ]
    },
    {
      "cell_type": "markdown",
      "metadata": {
        "id": "tZj73165Y6SL"
      },
      "source": [
        "19 Calculadora de Desconto"
      ]
    },
    {
      "cell_type": "code",
      "execution_count": null,
      "metadata": {
        "colab": {
          "base_uri": "https://localhost:8080/",
          "height": 1000
        },
        "id": "_z0ay5WED1Tu",
        "outputId": "44aa1047-1ca9-4f1f-fde8-8d9062a46275"
      },
      "outputs": [
        {
          "name": "stdout",
          "output_type": "stream",
          "text": [
            "   survived  pclass     sex   age  sibsp  parch     fare embarked  class  \\\n",
            "0         0       3    male  22.0      1      0   7.2500        S  Third   \n",
            "1         1       1  female  38.0      1      0  71.2833        C  First   \n",
            "2         1       3  female  26.0      0      0   7.9250        S  Third   \n",
            "3         1       1  female  35.0      1      0  53.1000        S  First   \n",
            "4         0       3    male  35.0      0      0   8.0500        S  Third   \n",
            "\n",
            "     who  adult_male deck  embark_town alive  alone  \n",
            "0    man        True  NaN  Southampton    no  False  \n",
            "1  woman       False    C    Cherbourg   yes  False  \n",
            "2  woman       False  NaN  Southampton   yes   True  \n",
            "3  woman       False    C  Southampton   yes  False  \n",
            "4    man        True  NaN  Southampton    no   True  \n",
            "\n",
            "Médias:\n",
            " survived     0.383838\n",
            "pclass       2.308642\n",
            "age         29.699118\n",
            "sibsp        0.523008\n",
            "parch        0.381594\n",
            "fare        32.204208\n",
            "dtype: float64\n",
            "\n",
            "Medianas:\n",
            " survived     0.0000\n",
            "pclass       3.0000\n",
            "age         28.0000\n",
            "sibsp        0.0000\n",
            "parch        0.0000\n",
            "fare        14.4542\n",
            "dtype: float64\n"
          ]
        },
        {
          "data": {
            "image/png": "[encoded data removed]",
            "text/plain": [
              "<Figure size 800x500 with 1 Axes>"
            ]
          },
          "metadata": {},
          "output_type": "display_data"
        },
        {
          "data": {
            "image/png": "[encoded data removed]",
            "text/plain": [
              "<Figure size 1000x600 with 1 Axes>"
            ]
          },
          "metadata": {},
          "output_type": "display_data"
        }
      ],
      "source": [
        "import pandas as pd\n",
        "import seaborn as sns\n",
        "import matplotlib.pyplot as plt\n",
        "df = sns.load_dataset('titanic')\n",
        "print(df.head())\n",
        "numeric_cols = df.select_dtypes(include = 'number')\n",
        "mean_values = numeric_cols.mean()\n",
        "median_values = numeric_cols.median()\n",
        "\n",
        "print(\"\\nMédias:\\n\", mean_values)\n",
        "print(\"\\nMedianas:\\n\", median_values)\n",
        "\n",
        "# Gráfico 1: Histograma da idade\n",
        "plt.figure(figsize=(8, 5))\n",
        "plt.hist(df['age'].dropna(), bins=20, color='skyblue', edgecolor='black')\n",
        "plt.title('Distribuição de Idade dos Passageiros')\n",
        "plt.xlabel('Idade')\n",
        "plt.ylabel('Frequência')\n",
        "plt.grid(True)\n",
        "plt.show()\n",
        "\n",
        "# Gráfico 2: Gráfico de barras da média das colunas numéricas\n",
        "plt.figure(figsize=(10, 6))\n",
        "mean_values.plot(kind='bar', color='lightgreen')\n",
        "plt.title('Média das Variáveis Numéricas')\n",
        "plt.ylabel('Valor Médio')\n",
        "plt.xticks(rotation=45)\n",
        "plt.grid(True)\n",
        "plt.tight_layout()\n",
        "plt.show()"
      ]
    },
    {
      "cell_type": "markdown",
      "metadata": {
        "id": "91C6jF9CD2Sx"
      },
      "source": [
        "20 Ánalise de Dados Simples com Pandas e Metplotlib"
      ]
    }
  ],
  "metadata": {
    "colab": {
      "provenance": [],
      "include_colab_link": true
    },
    "kernelspec": {
      "display_name": "Python 3",
      "name": "python3"
    },
    "language_info": {
      "name": "python"
    }
  },
  "nbformat": 4,
  "nbformat_minor": 0
}